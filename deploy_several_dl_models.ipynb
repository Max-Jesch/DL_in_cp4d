{
 "cells": [
  {
   "cell_type": "markdown",
   "metadata": {},
   "source": [
    "# 1. Setup"
   ]
  },
  {
   "cell_type": "code",
   "execution_count": null,
   "metadata": {},
   "outputs": [],
   "source": [
    "!pip install tensorflow\n",
    "!pip install matplotlib\n",
    "!pip install ibm_watson_machine_learning\n",
    "!pip install seaborn    "
   ]
  },
  {
   "cell_type": "code",
   "execution_count": null,
   "metadata": {},
   "outputs": [],
   "source": [
    "import json\n",
    "\n",
    "with open('credentials.json') as f:\n",
    "    data = json.load(f)\n",
    "    API_KEY = data['API_KEY']\n",
    "    LOCATION = data['LOCATION']\n",
    "    PROJECT_ID = data['PROJECT_ID']\n",
    "    SPACE_ID = data['SPACE_ID']"
   ]
  },
  {
   "cell_type": "markdown",
   "metadata": {},
   "source": [
    "# 2. Create a model"
   ]
  },
  {
   "cell_type": "code",
   "execution_count": null,
   "metadata": {},
   "outputs": [],
   "source": [
    "import tensorflow as tf\n",
    "from tensorflow.keras.datasets import mnist\n",
    "import numpy as np\n",
    "import matplotlib.pyplot as plt\n",
    "import time"
   ]
  },
  {
   "cell_type": "code",
   "execution_count": null,
   "metadata": {},
   "outputs": [],
   "source": [
    "# load mnist data\n",
    "(x_train, y_train), (x_test, y_test) = mnist.load_data()\n",
    "# normalize data\n",
    "x_train, x_test = x_train / 255.0, x_test / 255.0\n",
    "# add a channels dimension\n",
    "x_train = x_train[..., tf.newaxis] \n",
    "x_test = x_test[..., tf.newaxis]\n",
    "# create a dataset\n",
    "train_ds = tf.data.Dataset.from_tensor_slices(\n",
    "    (x_train, y_train)).shuffle(10000).batch(32)\n",
    "test_ds = tf.data.Dataset.from_tensor_slices((x_test, y_test)).batch(32)\n",
    "# create a model\n",
    "model = tf.keras.models.Sequential([\n",
    "  tf.keras.layers.Conv2D(32, 3, activation='relu', input_shape=(28, 28, 1)),\n",
    "  tf.keras.layers.MaxPooling2D(),\n",
    "  tf.keras.layers.Flatten(),\n",
    "  tf.keras.layers.Dense(128, activation='relu'),\n",
    "  tf.keras.layers.Dense(10)\n",
    "])\n",
    "# compile\n",
    "model.compile(optimizer='adam',\n",
    "              loss=tf.keras.losses.SparseCategoricalCrossentropy(from_logits=True),\n",
    "              metrics=['accuracy'])"
   ]
  },
  {
   "cell_type": "code",
   "execution_count": null,
   "metadata": {},
   "outputs": [],
   "source": [
    "# train\n",
    "model.fit(train_ds, epochs=5)\n",
    "# evaluate\n",
    "model.evaluate(test_ds)\n",
    "# save the model\n",
    "model.save('model.h5')"
   ]
  },
  {
   "cell_type": "markdown",
   "metadata": {},
   "source": [
    "# 3. Save the model to watson studio "
   ]
  },
  {
   "cell_type": "code",
   "execution_count": null,
   "metadata": {},
   "outputs": [],
   "source": [
    "from ibm_watson_machine_learning import APIClient\n",
    "\n",
    "wml_credentials = {\n",
    "    \"apikey\": API_KEY,\n",
    "    \"url\": LOCATION\n",
    "}\n",
    "\n",
    "wml_client = APIClient(wml_credentials)\n",
    "# Watson Studio project\n",
    "wml_client.set.default_project(PROJECT_ID)\n",
    "# Watson Machine Learning space\n",
    "wml_client.set.default_space(SPACE_ID)"
   ]
  },
  {
   "cell_type": "code",
   "execution_count": null,
   "metadata": {},
   "outputs": [],
   "source": [
    "# get the number of parameters in the model\n",
    "def get_model_parameters(model):\n",
    "    return np.sum([np.prod(v.get_shape().as_list()) for v in model.trainable_variables])\n",
    "model_number_of_parameters = get_model_parameters(model)\n",
    "\n",
    "# get the size of the model in megabytes with two decimal places\n",
    "def get_model_size(model_name):\n",
    "    import os\n",
    "    return round(os.path.getsize(model_name + '.tar.gz') / 1000000, 2)\n",
    "model_size_mb=get_model_size('mnist_model')"
   ]
  },
  {
   "cell_type": "code",
   "execution_count": 160,
   "metadata": {},
   "outputs": [],
   "source": [
    "model_name='mnist_'+str(model_size_mb) + \"MB\"+'_'+str(model_number_of_parameters)+'params'"
   ]
  },
  {
   "cell_type": "code",
   "execution_count": null,
   "metadata": {},
   "outputs": [],
   "source": [
    "# create a tar.gz file with the model\n",
    "def create_tar_gz_file(model_name):\n",
    "    import tarfile\n",
    "    import os\n",
    "    import shutil\n",
    "    # create a tar.gz file with the model\n",
    "    tar = tarfile.open(model_name + '.tar.gz', \"w:gz\")\n",
    "    tar.add('model.h5')\n",
    "    tar.close()\n",
    "\n",
    "create_tar_gz_file(model_name)"
   ]
  },
  {
   "cell_type": "code",
   "execution_count": null,
   "metadata": {},
   "outputs": [],
   "source": [
    "# list of model metadata properties\n",
    "wml_client.repository.ModelMetaNames.get()"
   ]
  },
  {
   "cell_type": "code",
   "execution_count": 162,
   "metadata": {},
   "outputs": [],
   "source": [
    "\n",
    "sofware_spec_uid = wml_client.software_specifications.get_id_by_name(\"runtime-22.2-py3.10\")\n",
    "\n",
    "metadata = {\n",
    "            wml_client.repository.ModelMetaNames.NAME: model_name,\n",
    "            wml_client.repository.ModelMetaNames.TYPE: 'tensorflow_2.9',\n",
    "            wml_client.repository.ModelMetaNames.SOFTWARE_SPEC_UID: sofware_spec_uid,\n",
    "            wml_client.repository.ModelMetaNames.SIZE: {'size_in_mb':str(model_size_mb) + \" MB\", 'number_of_parameters':str(model_number_of_parameters)}\n",
    "}\n",
    "\n",
    "published_model = wml_client.repository.store_model(\n",
    "    model=model_name+\".tar.gz\",\n",
    "    meta_props=metadata)"
   ]
  },
  {
   "cell_type": "code",
   "execution_count": 163,
   "metadata": {},
   "outputs": [
    {
     "name": "stdout",
     "output_type": "stream",
     "text": [
      "{\n",
      "  \"entity\": {\n",
      "    \"hybrid_pipeline_software_specs\": [],\n",
      "    \"size\": {},\n",
      "    \"software_spec\": {\n",
      "      \"id\": \"b56101f1-309d-549b-a849-eaa63f77b2fb\",\n",
      "      \"name\": \"runtime-22.2-py3.10\"\n",
      "    },\n",
      "    \"type\": \"tensorflow_2.9\"\n",
      "  },\n",
      "  \"metadata\": {\n",
      "    \"created_at\": \"2023-01-12T11:37:12.763Z\",\n",
      "    \"id\": \"37ee824c-a1ca-4684-9a93-196caa3b93f4\",\n",
      "    \"modified_at\": \"2023-01-12T11:37:17.966Z\",\n",
      "    \"name\": \"mnist_7.74MB_693962params\",\n",
      "    \"owner\": \"IBMid-6650024HXN\",\n",
      "    \"resource_key\": \"4c09c6a8-4318-4466-825a-35827a22e020\",\n",
      "    \"space_id\": \"78f24148-ba79-4067-ad83-033bf2937545\"\n",
      "  },\n",
      "  \"system\": {\n",
      "    \"warnings\": []\n",
      "  }\n",
      "}\n"
     ]
    }
   ],
   "source": [
    "import json\n",
    "\n",
    "published_model_uid = wml_client.repository.get_model_id(published_model)\n",
    "model_details = wml_client.repository.get_details(published_model_uid)\n",
    "print(json.dumps(model_details, indent=2))"
   ]
  },
  {
   "cell_type": "code",
   "execution_count": 167,
   "metadata": {},
   "outputs": [
    {
     "name": "stdout",
     "output_type": "stream",
     "text": [
      "------------------------------------  -------------------------  ------------------------  --------------\n",
      "ID                                    NAME                       CREATED                   TYPE\n",
      "37ee824c-a1ca-4684-9a93-196caa3b93f4  mnist_7.74MB_693962params  2023-01-12T11:37:12.002Z  tensorflow_2.9\n",
      "9c10158e-7af0-4dc6-83ab-128c8d35629a  mnist_small_v2             2023-01-12T07:37:04.002Z  tensorflow_2.9\n",
      "38fba3c6-2c98-486c-9e02-a859e4b24003  mnist_small                2023-01-12T07:36:31.002Z  tensorflow_2.9\n",
      "6a7b41cb-fa03-49db-aa04-9e4a97bda834  mnist_small                2023-01-12T04:41:43.002Z  tensorflow_2.9\n",
      "------------------------------------  -------------------------  ------------------------  --------------\n"
     ]
    }
   ],
   "source": [
    "models_details = wml_client.repository.list_models()"
   ]
  },
  {
   "cell_type": "markdown",
   "metadata": {},
   "source": [
    "### deploy model to watson machine learning\n",
    "\n",
    "http://ibm-wml-api-pyclient.mybluemix.net/"
   ]
  },
  {
   "cell_type": "code",
   "execution_count": 168,
   "metadata": {},
   "outputs": [
    {
     "name": "stdout",
     "output_type": "stream",
     "text": [
      "\n",
      "\n",
      "#######################################################################################\n",
      "\n",
      "Synchronous deployment creation for uid: '37ee824c-a1ca-4684-9a93-196caa3b93f4' started\n",
      "\n",
      "#######################################################################################\n",
      "\n",
      "\n",
      "initializing\n",
      "Note: online_url is deprecated and will be removed in a future release. Use serving_urls instead.\n",
      "..\n",
      "ready\n",
      "\n",
      "\n",
      "------------------------------------------------------------------------------------------------\n",
      "Successfully finished deployment creation, deployment_uid='10c8aef2-1447-425b-94d6-0da6ec69b29a'\n",
      "------------------------------------------------------------------------------------------------\n",
      "\n",
      "\n"
     ]
    }
   ],
   "source": [
    "metadata = {\n",
    "    wml_client.deployments.ConfigurationMetaNames.NAME: \"Deployment of \"+model_name,\n",
    "    wml_client.deployments.ConfigurationMetaNames.ONLINE: {}\n",
    "}\n",
    "\n",
    "created_deployment = wml_client.deployments.create(published_model_uid, meta_props=metadata)"
   ]
  },
  {
   "cell_type": "code",
   "execution_count": 169,
   "metadata": {},
   "outputs": [
    {
     "data": {
      "text/plain": [
       "'10c8aef2-1447-425b-94d6-0da6ec69b29a'"
      ]
     },
     "execution_count": 169,
     "metadata": {},
     "output_type": "execute_result"
    }
   ],
   "source": [
    "deployment_uid = wml_client.deployments.get_id(created_deployment)\n",
    "deployment_uid"
   ]
  },
  {
   "cell_type": "code",
   "execution_count": 170,
   "metadata": {},
   "outputs": [
    {
     "name": "stdout",
     "output_type": "stream",
     "text": [
      "https://us-south.ml.cloud.ibm.com/ml/v4/deployments/10c8aef2-1447-425b-94d6-0da6ec69b29a/predictions\n"
     ]
    }
   ],
   "source": [
    "scoring_endpoint = wml_client.deployments.get_scoring_href(created_deployment)\n",
    "print(scoring_endpoint)"
   ]
  },
  {
   "cell_type": "markdown",
   "metadata": {},
   "source": [
    "### test deployed model"
   ]
  },
  {
   "cell_type": "code",
   "execution_count": 171,
   "metadata": {},
   "outputs": [],
   "source": [
    "# prepare one entry from test_ds for prediction\n",
    "def prepare_prediction(image_vector, label):\n",
    "    image_vector = tf.cast(image_vector, tf.float32)\n",
    "    image_vector = image_vector[tf.newaxis, ...]\n",
    "    return image_vector, label"
   ]
  },
  {
   "cell_type": "code",
   "execution_count": 172,
   "metadata": {},
   "outputs": [
    {
     "name": "stdout",
     "output_type": "stream",
     "text": [
      "1/1 [==============================] - 0s 29ms/step\n",
      "predicted digit: 7\n"
     ]
    }
   ],
   "source": [
    "prepared_input=prepare_prediction(x_test[0], y_test[0])\n",
    "# do prediction locally\n",
    "results=model.predict(prepared_input[0],prepared_input[1])\n",
    "# print results\n",
    "print(\"predicted digit: {}\".format(np.argmax(results)))"
   ]
  },
  {
   "cell_type": "code",
   "execution_count": 173,
   "metadata": {},
   "outputs": [
    {
     "data": {
      "image/png": "[encoded data removed]",
      "text/plain": [
       "<Figure size 432x288 with 2 Axes>"
      ]
     },
     "metadata": {
      "needs_background": "light"
     },
     "output_type": "display_data"
    }
   ],
   "source": [
    "%matplotlib inline\n",
    "import matplotlib.pyplot as plt\n",
    "\n",
    "for i, image in enumerate([x_test[0], x_test[1]]):\n",
    "    plt.subplot(2, 2, i + 1)\n",
    "    plt.axis('off')\n",
    "    plt.imshow(image, cmap=plt.cm.gray_r, interpolation='nearest')"
   ]
  },
  {
   "cell_type": "code",
   "execution_count": 174,
   "metadata": {},
   "outputs": [],
   "source": [
    "prepared_input=prepare_prediction(x_test[0], y_test[0])\n",
    "scoring_payload = {\"input_data\": [{\"values\": prepared_input[0].numpy().tolist()}]}\n",
    "predictions = wml_client.deployments.score(deployment_uid, scoring_payload)"
   ]
  },
  {
   "cell_type": "code",
   "execution_count": 187,
   "metadata": {},
   "outputs": [
    {
     "name": "stdout",
     "output_type": "stream",
     "text": [
      "predicted digit: 7\n"
     ]
    }
   ],
   "source": [
    "print(\"predicted digit: {}\".format(np.argmax(predictions[\"predictions\"][0][\"values\"][0][0])))"
   ]
  },
  {
   "cell_type": "code",
   "execution_count": 176,
   "metadata": {},
   "outputs": [],
   "source": [
    "# TODO: include scripts for data prepocessing + beautifying the predictions into a function and deploy it with the model"
   ]
  },
  {
   "cell_type": "code",
   "execution_count": null,
   "metadata": {},
   "outputs": [],
   "source": [
    "# TODO: figure out how to deploy to different enviroments"
   ]
  },
  {
   "cell_type": "markdown",
   "metadata": {},
   "source": [
    "### do measurements"
   ]
  },
  {
   "cell_type": "code",
   "execution_count": null,
   "metadata": {},
   "outputs": [],
   "source": [
    "# TODO: create multiple models of different sizes and deploy them + measure the performance"
   ]
  },
  {
   "cell_type": "code",
   "execution_count": 203,
   "metadata": {},
   "outputs": [],
   "source": [
    "# create a new thread and do a prediction for n images every 2 seconds\n",
    "import threading\n",
    "import time\n",
    "import pandas as pd\n",
    "import numpy as np\n",
    "\n",
    "# do a prediction for a single image\n",
    "def predict_image():\n",
    "    prepared_input=prepare_prediction(x_test[i], y_test[i])\n",
    "    scoring_payload = {\"input_data\": [{\"values\": prepared_input[0].numpy().tolist()}]}\n",
    "    wml_client.deployments.score(deployment_uid, scoring_payload)\n",
    "    \n",
    "def predict_image(package_number,thread_number):\n",
    "    start = time.time()\n",
    "    prepared_input=prepare_prediction(x_test[i], y_test[i])\n",
    "    scoring_payload = {\"input_data\": [{\"values\": prepared_input[0].numpy().tolist()}]}\n",
    "    wml_client.deployments.score(deployment_uid, scoring_payload)\n",
    "    end = time.time()\n",
    "    \n",
    "    time_elapsed=end - start\n",
    "    df.at[thread_number, package_number] = time_elapsed\n",
    "\n",
    "\n",
    "if __name__ == \"__main__\":\n",
    "    parallel_requests=5\n",
    "    number_of_packages=15\n",
    "    time_between_packages=1\n",
    "\n",
    "    df = pd.DataFrame(np.zeros((parallel_requests,number_of_packages)))\n",
    "\n",
    "    for package_number in range(number_of_packages):\n",
    "        for thread_number in range(parallel_requests):\n",
    "            thread = threading.Thread(target=predict_image,args=(package_number,thread_number))\n",
    "            thread.start()\n",
    "        time.sleep(time_between_packages)\n",
    "    time.sleep(20)      # waiting a default 10 seconds to make sure all threads finished\n"
   ]
  },
  {
   "cell_type": "code",
   "execution_count": 204,
   "metadata": {},
   "outputs": [
    {
     "data": {
      "text/html": [
       "<style type=\"text/css\">\n",
       "#T_d96fa_row0_col0, #T_d96fa_row0_col2, #T_d96fa_row0_col3, #T_d96fa_row0_col4, #T_d96fa_row0_col5, #T_d96fa_row0_col6, #T_d96fa_row0_col7, #T_d96fa_row0_col8, #T_d96fa_row0_col10, #T_d96fa_row0_col14, #T_d96fa_row1_col0, #T_d96fa_row1_col1, #T_d96fa_row1_col2, #T_d96fa_row1_col3, #T_d96fa_row1_col4, #T_d96fa_row1_col5, #T_d96fa_row1_col8, #T_d96fa_row1_col9, #T_d96fa_row1_col11, #T_d96fa_row2_col0, #T_d96fa_row2_col1, #T_d96fa_row2_col2, #T_d96fa_row2_col3, #T_d96fa_row2_col4, #T_d96fa_row2_col5, #T_d96fa_row2_col7, #T_d96fa_row2_col9, #T_d96fa_row2_col10, #T_d96fa_row2_col11, #T_d96fa_row2_col12, #T_d96fa_row2_col13, #T_d96fa_row3_col0, #T_d96fa_row3_col1, #T_d96fa_row3_col2, #T_d96fa_row3_col3, #T_d96fa_row3_col4, #T_d96fa_row3_col5, #T_d96fa_row3_col6, #T_d96fa_row3_col7, #T_d96fa_row3_col8, #T_d96fa_row3_col10, #T_d96fa_row3_col12, #T_d96fa_row3_col14, #T_d96fa_row4_col0, #T_d96fa_row4_col1, #T_d96fa_row4_col2, #T_d96fa_row4_col3, #T_d96fa_row4_col4, #T_d96fa_row4_col5, #T_d96fa_row4_col6, #T_d96fa_row4_col7, #T_d96fa_row4_col8, #T_d96fa_row4_col9, #T_d96fa_row4_col10, #T_d96fa_row4_col11, #T_d96fa_row4_col12, #T_d96fa_row4_col13, #T_d96fa_row4_col14 {\n",
       "  background-color: darkorange;\n",
       "}\n",
       "#T_d96fa_row0_col1, #T_d96fa_row0_col9, #T_d96fa_row0_col11, #T_d96fa_row0_col12, #T_d96fa_row0_col13, #T_d96fa_row1_col6, #T_d96fa_row1_col7, #T_d96fa_row1_col10, #T_d96fa_row1_col12, #T_d96fa_row1_col13, #T_d96fa_row1_col14, #T_d96fa_row2_col6, #T_d96fa_row2_col8, #T_d96fa_row2_col14, #T_d96fa_row3_col9, #T_d96fa_row3_col11, #T_d96fa_row3_col13 {\n",
       "  background-color: green;\n",
       "}\n",
       "</style>\n",
       "<table id=\"T_d96fa\">\n",
       "  <thead>\n",
       "    <tr>\n",
       "      <th class=\"blank level0\" >&nbsp;</th>\n",
       "      <th id=\"T_d96fa_level0_col0\" class=\"col_heading level0 col0\" >0</th>\n",
       "      <th id=\"T_d96fa_level0_col1\" class=\"col_heading level0 col1\" >1</th>\n",
       "      <th id=\"T_d96fa_level0_col2\" class=\"col_heading level0 col2\" >2</th>\n",
       "      <th id=\"T_d96fa_level0_col3\" class=\"col_heading level0 col3\" >3</th>\n",
       "      <th id=\"T_d96fa_level0_col4\" class=\"col_heading level0 col4\" >4</th>\n",
       "      <th id=\"T_d96fa_level0_col5\" class=\"col_heading level0 col5\" >5</th>\n",
       "      <th id=\"T_d96fa_level0_col6\" class=\"col_heading level0 col6\" >6</th>\n",
       "      <th id=\"T_d96fa_level0_col7\" class=\"col_heading level0 col7\" >7</th>\n",
       "      <th id=\"T_d96fa_level0_col8\" class=\"col_heading level0 col8\" >8</th>\n",
       "      <th id=\"T_d96fa_level0_col9\" class=\"col_heading level0 col9\" >9</th>\n",
       "      <th id=\"T_d96fa_level0_col10\" class=\"col_heading level0 col10\" >10</th>\n",
       "      <th id=\"T_d96fa_level0_col11\" class=\"col_heading level0 col11\" >11</th>\n",
       "      <th id=\"T_d96fa_level0_col12\" class=\"col_heading level0 col12\" >12</th>\n",
       "      <th id=\"T_d96fa_level0_col13\" class=\"col_heading level0 col13\" >13</th>\n",
       "      <th id=\"T_d96fa_level0_col14\" class=\"col_heading level0 col14\" >14</th>\n",
       "    </tr>\n",
       "  </thead>\n",
       "  <tbody>\n",
       "    <tr>\n",
       "      <th id=\"T_d96fa_level0_row0\" class=\"row_heading level0 row0\" >0</th>\n",
       "      <td id=\"T_d96fa_row0_col0\" class=\"data row0 col0\" >1.601726</td>\n",
       "      <td id=\"T_d96fa_row0_col1\" class=\"data row0 col1\" >0.939504</td>\n",
       "      <td id=\"T_d96fa_row0_col2\" class=\"data row0 col2\" >1.715683</td>\n",
       "      <td id=\"T_d96fa_row0_col3\" class=\"data row0 col3\" >1.461025</td>\n",
       "      <td id=\"T_d96fa_row0_col4\" class=\"data row0 col4\" >1.194579</td>\n",
       "      <td id=\"T_d96fa_row0_col5\" class=\"data row0 col5\" >1.537310</td>\n",
       "      <td id=\"T_d96fa_row0_col6\" class=\"data row0 col6\" >1.120792</td>\n",
       "      <td id=\"T_d96fa_row0_col7\" class=\"data row0 col7\" >1.179515</td>\n",
       "      <td id=\"T_d96fa_row0_col8\" class=\"data row0 col8\" >1.009030</td>\n",
       "      <td id=\"T_d96fa_row0_col9\" class=\"data row0 col9\" >0.959000</td>\n",
       "      <td id=\"T_d96fa_row0_col10\" class=\"data row0 col10\" >1.122406</td>\n",
       "      <td id=\"T_d96fa_row0_col11\" class=\"data row0 col11\" >0.766666</td>\n",
       "      <td id=\"T_d96fa_row0_col12\" class=\"data row0 col12\" >0.945035</td>\n",
       "      <td id=\"T_d96fa_row0_col13\" class=\"data row0 col13\" >0.918061</td>\n",
       "      <td id=\"T_d96fa_row0_col14\" class=\"data row0 col14\" >1.131057</td>\n",
       "    </tr>\n",
       "    <tr>\n",
       "      <th id=\"T_d96fa_level0_row1\" class=\"row_heading level0 row1\" >1</th>\n",
       "      <td id=\"T_d96fa_row1_col0\" class=\"data row1 col0\" >1.474217</td>\n",
       "      <td id=\"T_d96fa_row1_col1\" class=\"data row1 col1\" >1.650308</td>\n",
       "      <td id=\"T_d96fa_row1_col2\" class=\"data row1 col2\" >1.620690</td>\n",
       "      <td id=\"T_d96fa_row1_col3\" class=\"data row1 col3\" >1.580036</td>\n",
       "      <td id=\"T_d96fa_row1_col4\" class=\"data row1 col4\" >1.377100</td>\n",
       "      <td id=\"T_d96fa_row1_col5\" class=\"data row1 col5\" >1.188550</td>\n",
       "      <td id=\"T_d96fa_row1_col6\" class=\"data row1 col6\" >0.800789</td>\n",
       "      <td id=\"T_d96fa_row1_col7\" class=\"data row1 col7\" >0.882513</td>\n",
       "      <td id=\"T_d96fa_row1_col8\" class=\"data row1 col8\" >1.084031</td>\n",
       "      <td id=\"T_d96fa_row1_col9\" class=\"data row1 col9\" >1.166006</td>\n",
       "      <td id=\"T_d96fa_row1_col10\" class=\"data row1 col10\" >0.781885</td>\n",
       "      <td id=\"T_d96fa_row1_col11\" class=\"data row1 col11\" >1.094186</td>\n",
       "      <td id=\"T_d96fa_row1_col12\" class=\"data row1 col12\" >0.970059</td>\n",
       "      <td id=\"T_d96fa_row1_col13\" class=\"data row1 col13\" >0.489996</td>\n",
       "      <td id=\"T_d96fa_row1_col14\" class=\"data row1 col14\" >0.654004</td>\n",
       "    </tr>\n",
       "    <tr>\n",
       "      <th id=\"T_d96fa_level0_row2\" class=\"row_heading level0 row2\" >2</th>\n",
       "      <td id=\"T_d96fa_row2_col0\" class=\"data row2 col0\" >1.336201</td>\n",
       "      <td id=\"T_d96fa_row2_col1\" class=\"data row2 col1\" >1.677311</td>\n",
       "      <td id=\"T_d96fa_row2_col2\" class=\"data row2 col2\" >1.114682</td>\n",
       "      <td id=\"T_d96fa_row2_col3\" class=\"data row2 col3\" >1.673034</td>\n",
       "      <td id=\"T_d96fa_row2_col4\" class=\"data row2 col4\" >1.362097</td>\n",
       "      <td id=\"T_d96fa_row2_col5\" class=\"data row2 col5\" >1.295307</td>\n",
       "      <td id=\"T_d96fa_row2_col6\" class=\"data row2 col6\" >0.965789</td>\n",
       "      <td id=\"T_d96fa_row2_col7\" class=\"data row2 col7\" >1.150515</td>\n",
       "      <td id=\"T_d96fa_row2_col8\" class=\"data row2 col8\" >0.683509</td>\n",
       "      <td id=\"T_d96fa_row2_col9\" class=\"data row2 col9\" >1.095006</td>\n",
       "      <td id=\"T_d96fa_row2_col10\" class=\"data row2 col10\" >1.127417</td>\n",
       "      <td id=\"T_d96fa_row2_col11\" class=\"data row2 col11\" >1.056190</td>\n",
       "      <td id=\"T_d96fa_row2_col12\" class=\"data row2 col12\" >1.216061</td>\n",
       "      <td id=\"T_d96fa_row2_col13\" class=\"data row2 col13\" >1.024059</td>\n",
       "      <td id=\"T_d96fa_row2_col14\" class=\"data row2 col14\" >0.932055</td>\n",
       "    </tr>\n",
       "    <tr>\n",
       "      <th id=\"T_d96fa_level0_row3\" class=\"row_heading level0 row3\" >3</th>\n",
       "      <td id=\"T_d96fa_row3_col0\" class=\"data row3 col0\" >1.188183</td>\n",
       "      <td id=\"T_d96fa_row3_col1\" class=\"data row3 col1\" >1.197527</td>\n",
       "      <td id=\"T_d96fa_row3_col2\" class=\"data row3 col2\" >1.558691</td>\n",
       "      <td id=\"T_d96fa_row3_col3\" class=\"data row3 col3\" >1.686033</td>\n",
       "      <td id=\"T_d96fa_row3_col4\" class=\"data row3 col4\" >1.173583</td>\n",
       "      <td id=\"T_d96fa_row3_col5\" class=\"data row3 col5\" >1.146544</td>\n",
       "      <td id=\"T_d96fa_row3_col6\" class=\"data row3 col6\" >1.279301</td>\n",
       "      <td id=\"T_d96fa_row3_col7\" class=\"data row3 col7\" >1.054514</td>\n",
       "      <td id=\"T_d96fa_row3_col8\" class=\"data row3 col8\" >1.083026</td>\n",
       "      <td id=\"T_d96fa_row3_col9\" class=\"data row3 col9\" >0.935999</td>\n",
       "      <td id=\"T_d96fa_row3_col10\" class=\"data row3 col10\" >1.051890</td>\n",
       "      <td id=\"T_d96fa_row3_col11\" class=\"data row3 col11\" >0.857662</td>\n",
       "      <td id=\"T_d96fa_row3_col12\" class=\"data row3 col12\" >1.213059</td>\n",
       "      <td id=\"T_d96fa_row3_col13\" class=\"data row3 col13\" >0.498002</td>\n",
       "      <td id=\"T_d96fa_row3_col14\" class=\"data row3 col14\" >1.090053</td>\n",
       "    </tr>\n",
       "    <tr>\n",
       "      <th id=\"T_d96fa_level0_row4\" class=\"row_heading level0 row4\" >4</th>\n",
       "      <td id=\"T_d96fa_row4_col0\" class=\"data row4 col0\" >1.450214</td>\n",
       "      <td id=\"T_d96fa_row4_col1\" class=\"data row4 col1\" >1.657295</td>\n",
       "      <td id=\"T_d96fa_row4_col2\" class=\"data row4 col2\" >1.199698</td>\n",
       "      <td id=\"T_d96fa_row4_col3\" class=\"data row4 col3\" >1.708036</td>\n",
       "      <td id=\"T_d96fa_row4_col4\" class=\"data row4 col4\" >1.215581</td>\n",
       "      <td id=\"T_d96fa_row4_col5\" class=\"data row4 col5\" >1.562305</td>\n",
       "      <td id=\"T_d96fa_row4_col6\" class=\"data row4 col6\" >1.282790</td>\n",
       "      <td id=\"T_d96fa_row4_col7\" class=\"data row4 col7\" >1.193513</td>\n",
       "      <td id=\"T_d96fa_row4_col8\" class=\"data row4 col8\" >1.004027</td>\n",
       "      <td id=\"T_d96fa_row4_col9\" class=\"data row4 col9\" >1.151003</td>\n",
       "      <td id=\"T_d96fa_row4_col10\" class=\"data row4 col10\" >1.049888</td>\n",
       "      <td id=\"T_d96fa_row4_col11\" class=\"data row4 col11\" >1.082173</td>\n",
       "      <td id=\"T_d96fa_row4_col12\" class=\"data row4 col12\" >1.236066</td>\n",
       "      <td id=\"T_d96fa_row4_col13\" class=\"data row4 col13\" >1.017057</td>\n",
       "      <td id=\"T_d96fa_row4_col14\" class=\"data row4 col14\" >1.101051</td>\n",
       "    </tr>\n",
       "  </tbody>\n",
       "</table>\n"
      ],
      "text/plain": [
       "<pandas.io.formats.style.Styler at 0x1b0988ab4c0>"
      ]
     },
     "execution_count": 204,
     "metadata": {},
     "output_type": "execute_result"
    }
   ],
   "source": [
    "# apply a color gradient to the dataframe\n",
    "def color_dataframe(df):\n",
    "    def _color_red_or_green(val):\n",
    "        color = 'black' if val > 10 else 'red' if val >5 else 'darkorange' if val > 1 else 'green'\n",
    "        return 'background-color: %s' % color\n",
    "    return df.style.applymap(_color_red_or_green)\n",
    "\n",
    "color_dataframe(df)"
   ]
  },
  {
   "cell_type": "code",
   "execution_count": null,
   "metadata": {},
   "outputs": [],
   "source": []
  }
 ],
 "metadata": {
  "kernelspec": {
   "display_name": "Python 3.9.13 64-bit",
   "language": "python",
   "name": "python3"
  },
  "language_info": {
   "codemirror_mode": {
    "name": "ipython",
    "version": 3
   },
   "file_extension": ".py",
   "mimetype": "text/x-python",
   "name": "python",
   "nbconvert_exporter": "python",
   "pygments_lexer": "ipython3",
   "version": "3.9.13"
  },
  "orig_nbformat": 4,
  "vscode": {
   "interpreter": {
    "hash": "66b4b89368537fbc36e4791e8cc9c0a08c24c4747870e1f05f13f9120129f616"
   }
  }
 },
 "nbformat": 4,
 "nbformat_minor": 2
}
